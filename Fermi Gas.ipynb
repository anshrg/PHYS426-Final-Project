{
 "cells": [
  {
   "cell_type": "markdown",
   "id": "d57b623a",
   "metadata": {},
   "source": [
    "# PHYS 462 Computational Project - Fermi Gas in a Box\n",
    "### Author: Ansh Gupta"
   ]
  },
  {
   "cell_type": "markdown",
   "id": "464c2537",
   "metadata": {},
   "source": [
    "## Project Description:\n",
    "Fermions are particles with a half-integer spin, like $\\frac{1}{2}$, $\\frac{3}{2}$, etc. Unlike bosons, they obey the Pauli exclusion principle, meaning that two fermions cannot occupy the same quantum state."
   ]
  },
  {
   "cell_type": "code",
   "execution_count": null,
   "id": "a2c034c4",
   "metadata": {},
   "outputs": [],
   "source": []
  }
 ],
 "metadata": {
  "kernelspec": {
   "display_name": "Python 3 (ipykernel)",
   "language": "python",
   "name": "python3"
  },
  "language_info": {
   "codemirror_mode": {
    "name": "ipython",
    "version": 3
   },
   "file_extension": ".py",
   "mimetype": "text/x-python",
   "name": "python",
   "nbconvert_exporter": "python",
   "pygments_lexer": "ipython3",
   "version": "3.9.7"
  }
 },
 "nbformat": 4,
 "nbformat_minor": 5
}
