{
 "cells": [
  {
   "cell_type": "markdown",
   "id": "d57b623a",
   "metadata": {},
   "source": [
    "# PHYS 462 Computational Project - Fermi Gas in a Box\n",
    "### Author: Ansh Gupta"
   ]
  },
  {
   "cell_type": "markdown",
   "id": "4f88b97d",
   "metadata": {},
   "source": [
    "## Background:\n",
    "Fermions are particles with a half-integer spin, like $\\frac{1}{2}$, $\\frac{3}{2}$, etc. Unlike bosons, they obey the Pauli exclusion principle, meaning that two fermions cannot occupy the same quantum state. This fact results in many of the characteristics and properties of a \"fermi gas\" at low temperatures and/or high densities, when quantum effects are not negligible."
   ]
  },
  {
   "cell_type": "markdown",
   "id": "464c2537",
   "metadata": {},
   "source": [
    "## Project Description:\n",
    "Consider a system of fermions in a 3 dimensional, cubical box with side length $L$. Treating the problem as a classic 3D particle in a box, the energy eigenvalues for an individual fermion can be found as follows:\\\n",
    "$$\\epsilon_{\\vec{n}} = \\frac{\\pi^2\\hbar^2\\vec{n}^2}{2mL^2}$$\n",
    "A treatment of this problem can be found in many introductory quantum mechanics textbooks (eg. *Introduction to Quantum Mechanics* by Griffiths and Schroeter). 3 quantum numbers, $n_x, n_y,$ and $n_z,$ must be introduced to express the allowed energy eigenvalues for a particle in a 3D box. Then the quantity $\\vec{n}^2 = n_x^2 + n_y^2 + n_z^2$."
   ]
  },
  {
   "cell_type": "code",
   "execution_count": 17,
   "id": "14b54623",
   "metadata": {},
   "outputs": [],
   "source": [
    "import numpy as np\n",
    "import matplotlib.pyplot as plt\n",
    "from numba import njit\n",
    "from scipy.optimize import curve_fit"
   ]
  },
  {
   "cell_type": "code",
   "execution_count": 18,
   "id": "a2c034c4",
   "metadata": {},
   "outputs": [],
   "source": [
    "hbar = 1.055e-34 # reduced Planck's constant in units of J*s\n",
    "m = 9.109e-31 # mass of electron in kg\n",
    "kB = 1.381e-23 # Boltzman constant in units of J/K"
   ]
  },
  {
   "cell_type": "code",
   "execution_count": 19,
   "id": "6a34173e",
   "metadata": {},
   "outputs": [],
   "source": [
    "@njit\n",
    "def state_energy(n_sq_mag, L):\n",
    "    ''' Function that computes the energy of a particle in a 3D box in a state with \n",
    "        specified quantum numbers and the side length of the box.\n",
    "        \n",
    "    Inputs:\n",
    "        n_sq_mag: `int`\n",
    "            Square magnitude of the n vector, or nx^2 + ny^2 + nz^2\n",
    "        L: `float`\n",
    "            Side length of the 3D cube (meters)\n",
    "    Returns: \n",
    "        energy_of_state: `float`\n",
    "            Calculated energy of a particle-in-a-box in the given state\n",
    "    '''\n",
    "    \n",
    "    energy_of_state = np.pi**2 * hbar**2 * n_sq_mag / (2 * m * L**2)\n",
    "    return energy_of_state"
   ]
  },
  {
   "cell_type": "code",
   "execution_count": 20,
   "id": "088a2544",
   "metadata": {},
   "outputs": [],
   "source": [
    "@njit\n",
    "def FD_distribution(n_sq_mag, L, beta, mu):\n",
    "    ''' Function that computes the value of the Fermi_Dirac distribution for a particle in\n",
    "        a 3D box in a state with specified quantum numbers, given the side length of the box\n",
    "        and the \"thermodynamic beta\" (1/kT) and chemical potential.\n",
    "        \n",
    "    Inputs:\n",
    "        n_sq_mag: `int`\n",
    "            Square magnitude of the n vector, or nx^2 + ny^2 + nz^2\n",
    "        L: `float`\n",
    "            Side length of the 3D cube (meters)\n",
    "        beta: `float`\n",
    "            Thermodynamic beta (1/kT) in units of eV\n",
    "        mu: `float`\n",
    "            Chemical potential of fermi gas in units of eV\n",
    "    Returns: \n",
    "        FD: `float`\n",
    "            Calculated value of the Fermi-Dirac distribution\n",
    "    '''\n",
    "    \n",
    "    FD = 1 / (1 + np.exp(beta * (state_energy(n_sq_mag, L) - mu)) )\n",
    "    return FD"
   ]
  },
  {
   "cell_type": "code",
   "execution_count": 21,
   "id": "e74f9e8d",
   "metadata": {},
   "outputs": [],
   "source": [
    "@njit\n",
    "def system_energy(beta, mu, L_min, L_max, n_L=100, n_max=100):\n",
    "    ''' Function that computes the average energy of a system of fermions in a 3D box\n",
    "        by summing over all combinations of quantum numbers to a specified upper limit.\n",
    "        Energy values for a range of lengths are computed and returned.\n",
    "        \n",
    "    Inputs:\n",
    "        beta: `float`\n",
    "            Thermodynamic beta (1/kT) in units of eV\n",
    "        mu: `float`\n",
    "            Chemical potential of fermi gas in units of eV\n",
    "        L_min: `float`\n",
    "            Lower limit of box side length values\n",
    "        L_max: `float`\n",
    "            Higher limit of box side length values\n",
    "        n_L: `integer`\n",
    "            Number of values between L_min and L_max to use for energy calculation\n",
    "        n_max: `integer`\n",
    "            Maximum number of each spatial quantum number to iterate through\n",
    "        \n",
    "    Returns: \n",
    "        L: `numpy array`\n",
    "            Values for the box side length used in the system energy calculation\n",
    "        E: `numpy array`\n",
    "            Calculated average system energy at each value for box side length\n",
    "    '''\n",
    "\n",
    "    L = np.linspace(L_min, L_max, n_L)# array of L values to iterate through\n",
    "    E = np.zeros(n_L) # empty array to store energy of system for each L\n",
    "    \n",
    "    for index, l in enumerate(L): # iterate through each box side length\n",
    "        \n",
    "        # iterate through combinations of quantum numbers nx, ny, and nz up to n_max\n",
    "        for nx in range(1, n_max):\n",
    "            for ny in range(1, n_max):\n",
    "                for nz in range(1, n_max):\n",
    "                    \n",
    "                    n_sq_mag = nx**2 + ny**2 + nz**2 # square magnitude of n vector\n",
    "\n",
    "                    # sum over energy of all states times FD distribution, which is a sum of energies\n",
    "                    # weighted by the probability of a given state being occupied. Factor of 2 added\n",
    "                    # to account for spin degeneracy of quantum states\n",
    "                    E[index] += 2*state_energy(n_sq_mag, l)*FD_distribution(n_sq_mag, l, beta, mu)\n",
    "\n",
    "    return L, E"
   ]
  },
  {
   "cell_type": "code",
   "execution_count": 22,
   "id": "67584b3c",
   "metadata": {},
   "outputs": [],
   "source": [
    "def expected_energy_relation(L, rho, sigma, delta_E):\n",
    "    ''' Function that computes the expected relationship between the side lengths of a 3\n",
    "        dimensional cube and the average energy of a system of fermions in that box. The\n",
    "        relationship is defined by the energy density of bulk Fermi gas, the surface\n",
    "        energy, and a fluctuating term.\n",
    "    \n",
    "    Inputs:\n",
    "        L: `numpy array`\n",
    "            Array of values for the side length of a 3 dimensional box\n",
    "        rho: `float`\n",
    "            Energy density of the Fermi gas\n",
    "        sigma: `float`\n",
    "            Surface energy of the system\n",
    "        delta_E: `float`\n",
    "            Small fluctuating term that characterizes the deviations of the energy\n",
    "    \n",
    "    Outputs:\n",
    "        E_over_L_squared: `numpy array`\n",
    "            Calculated average system energy over side length squared\n",
    "    '''\n",
    "    \n",
    "    # Equation is E = rho*V + sigma*A + deltaE, where V = L^3 and A = 6L^2\n",
    "    # Divide by L^2: E/L^2 = rho*L + 6*sigma + deltaE/L^2\n",
    "    E_over_L_squared = rho*L + 6*sigma + delta_E/(L**2)\n",
    "    return E_over_L_squared"
   ]
  },
  {
   "cell_type": "code",
   "execution_count": 72,
   "id": "4f24e28d",
   "metadata": {},
   "outputs": [
    {
     "name": "stdout",
     "output_type": "stream",
     "text": [
      "Calculated parameters:  rho = 1.57e+02 J/m^3,  sigma = -5.61e-07 J/m^2,  delta_E = 5.94e-22 J\n"
     ]
    },
    {
     "data": {
      "image/png": "[encoded data removed]",
      "text/plain": [
       "<Figure size 432x288 with 1 Axes>"
      ]
     },
     "metadata": {
      "needs_background": "light"
     },
     "output_type": "display_data"
    }
   ],
   "source": [
    "T_low = 3 # temperature of fermion gas in Kelvin (low temperature)\n",
    "beta_low = 1/(kB*T_low) # definition of thermodynamic beta\n",
    "mu_low = 10/beta_low # Set checmical potential such that beta*mu = 10\n",
    "\n",
    "# Calculate the energy of the system from L of 10 nm to 300 nm\n",
    "L_low, E_low = system_energy(beta_low, mu_low, 5e-8, 1e-6, n_L=20, n_max=100)\n",
    "\n",
    "popt_low, pcov_low = curve_fit(expected_energy_relation, L_low, E_low/(L_low**2))\n",
    "print(f\"Calculated parameters:  rho = {popt_low[0]:.2e} J/m^3,  sigma = {popt_low[1]:.2e} J/m^2,  \" +\\\n",
    "      f\"delta_E = {popt_low[2]:.2e} J\")\n",
    "\n",
    "plt.scatter(L_low, E_low/(L_low**2))\n",
    "plt.plot(L_low, expected_energy_relation(L_low, *popt_low), c='orange');"
   ]
  },
  {
   "cell_type": "code",
   "execution_count": 73,
   "id": "2b1013d4",
   "metadata": {
    "scrolled": false
   },
   "outputs": [
    {
     "name": "stdout",
     "output_type": "stream",
     "text": [
      "Calculated parameters:  rho = 3.12e+05 J/m^3,  sigma = -1.96e-04 J/m^2,  delta_E = 8.36e-21 J\n"
     ]
    },
    {
     "data": {
      "image/png": "[encoded data removed]",
      "text/plain": [
       "<Figure size 432x288 with 1 Axes>"
      ]
     },
     "metadata": {
      "needs_background": "light"
     },
     "output_type": "display_data"
    }
   ],
   "source": [
    "T_medium = 300 # temperature of fermion gas in Kelvin (intermediate temperature)\n",
    "beta_medium = 1/(kB*T_medium) # definition of thermodynamic beta\n",
    "mu_medium = 1/beta_medium # Set checmical potential such that beta*mu = 1\n",
    "\n",
    "L_medium, E_medium = system_energy(beta_medium, mu_medium, 1e-8, 1e-7, 20, 100)\n",
    "\n",
    "popt_medium, pcov_medium = curve_fit(expected_energy_relation, L_medium, E_medium/(L_medium**2))\n",
    "print(f\"Calculated parameters:  rho = {popt_medium[0]:.2e} J/m^3,  sigma = {popt_medium[1]:.2e} J/m^2,  \" +\\\n",
    "      f\"delta_E = {popt_medium[2]:.2e} J\")\n",
    "\n",
    "plt.scatter(L_medium, E_medium/(L_medium**2))\n",
    "plt.plot(L_medium, expected_energy_relation(L_medium, *popt_medium), c='orange');"
   ]
  },
  {
   "cell_type": "code",
   "execution_count": 74,
   "id": "a1161b07",
   "metadata": {},
   "outputs": [
    {
     "name": "stdout",
     "output_type": "stream",
     "text": [
      "Calculated parameters:  rho = 4.66e+07 J/m^3,  sigma = -9.69e-03 J/m^2,  delta_E = 4.37e-20 J\n"
     ]
    },
    {
     "data": {
      "image/png": "[encoded data removed]",
      "text/plain": [
       "<Figure size 432x288 with 1 Axes>"
      ]
     },
     "metadata": {
      "needs_background": "light"
     },
     "output_type": "display_data"
    }
   ],
   "source": [
    "T_high = 3000 # temperature of fermion gas in Kelvin (high temperature)\n",
    "beta_high = 1/(kB*T_high) # definition of thermodynamic beta\n",
    "mu_high = 0.1/beta_high # Set checmical potential such that beta*mu = 0.1\n",
    "\n",
    "L_high, E_high = system_energy(beta_high, mu_high, 1e-8, 4e-8, 20, 100)\n",
    "\n",
    "popt_high, pcov_high = curve_fit(expected_energy_relation, L_high, E_high/(L_high**2))\n",
    "print(f\"Calculated parameters:  rho = {popt_high[0]:.2e} J/m^3,  sigma = {popt_high[1]:.2e} J/m^2,  \" +\\\n",
    "      f\"delta_E = {popt_high[2]:.2e} J\")\n",
    "\n",
    "plt.scatter(L_high, E_high/(L_high**2))\n",
    "plt.plot(L_high, expected_energy_relation(L_high, *popt_high), c='orange');"
   ]
  }
 ],
 "metadata": {
  "kernelspec": {
   "display_name": "Python 3 (ipykernel)",
   "language": "python",
   "name": "python3"
  },
  "language_info": {
   "codemirror_mode": {
    "name": "ipython",
    "version": 3
   },
   "file_extension": ".py",
   "mimetype": "text/x-python",
   "name": "python",
   "nbconvert_exporter": "python",
   "pygments_lexer": "ipython3",
   "version": "3.9.7"
  }
 },
 "nbformat": 4,
 "nbformat_minor": 5
}
